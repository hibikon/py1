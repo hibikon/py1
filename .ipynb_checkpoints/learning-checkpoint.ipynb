{
 "cells": [
  {
   "cell_type": "markdown",
   "metadata": {},
   "source": [
    "◯　機械学習基礎　\n",
    "◯　教師あり学習"
   ]
  },
  {
   "cell_type": "code",
   "execution_count": 1,
   "metadata": {},
   "outputs": [
    {
     "name": "stdout",
     "output_type": "stream",
     "text": [
      "sampleの数： 569\n",
      "sampleの中身： [1.799e+01 1.038e+01 1.228e+02 1.001e+03 1.184e-01 2.776e-01 3.001e-01\n",
      " 1.471e-01 2.419e-01 7.871e-02 1.095e+00 9.053e-01 8.589e+00 1.534e+02\n",
      " 6.399e-03 4.904e-02 5.373e-02 1.587e-02 3.003e-02 6.193e-03 2.538e+01\n",
      " 1.733e+01 1.846e+02 2.019e+03 1.622e-01 6.656e-01 7.119e-01 2.654e-01\n",
      " 4.601e-01 1.189e-01]\n",
      "各sampleの特徴量の数： 30\n"
     ]
    }
   ],
   "source": [
    "from sklearn.datasets import load_breast_cancer\n",
    "import pandas as pd\n",
    "sample = load_breast_cancer()\n",
    "print('sampleの数： {}'.format(len(sample.data)))\n",
    "print('sampleの中身： {}'.format(sample.data[0]))\n",
    "print('各sampleの特徴量の数： {}'.format(len(sample.data[0])))"
   ]
  },
  {
   "cell_type": "code",
   "execution_count": 2,
   "metadata": {},
   "outputs": [
    {
     "name": "stdout",
     "output_type": "stream",
     "text": [
      "targetの数： 569\n",
      "targetの中身： [0 0 0 0 0 0 0 0 0 0 0 0 0 0 0 0 0 0 0 1 1 1 0 0 0 0 0 0 0 0]\n"
     ]
    }
   ],
   "source": [
    "print('targetの数： {}'.format(len(sample.target)))\n",
    "print('targetの中身： {}'.format(sample.target[0:30]))"
   ]
  },
  {
   "cell_type": "markdown",
   "metadata": {},
   "source": [
    "SVMを用いて、分類問題を解く。"
   ]
  },
  {
   "cell_type": "code",
   "execution_count": 4,
   "metadata": {},
   "outputs": [
    {
     "data": {
      "text/plain": [
       "0.9578947368421052"
      ]
     },
     "execution_count": 4,
     "metadata": {},
     "output_type": "execute_result"
    }
   ],
   "source": [
    "from sklearn.svm import SVC\n",
    "clf = SVC(kernel='linear')\n",
    "\n",
    "x = sample.data\n",
    "y = sample.target\n",
    "\n",
    "from sklearn.model_selection import ShuffleSplit\n",
    "ss = ShuffleSplit(n_splits=1, random_state=0, test_size=0.5, train_size=0.5)\n",
    "train_index, test_index = next(ss.split(x))\n",
    "x_train = x[train_index]\n",
    "y_train = y[train_index] # 学習用回答\n",
    "x_test = x[test_index]   # テスト用データ\n",
    "y_test = y[test_index]   # テスト用回答\n",
    "\n",
    "clf.fit(x_train, y_train)\n",
    "\n",
    "clf.score(x_test, y_test)"
   ]
  },
  {
   "cell_type": "markdown",
   "metadata": {},
   "source": [
    "決定木で分類する"
   ]
  },
  {
   "cell_type": "code",
   "execution_count": 5,
   "metadata": {},
   "outputs": [
    {
     "data": {
      "text/plain": [
       "0.9263157894736842"
      ]
     },
     "execution_count": 5,
     "metadata": {},
     "output_type": "execute_result"
    }
   ],
   "source": [
    "from sklearn.tree import DecisionTreeClassifier\n",
    "clf = DecisionTreeClassifier(max_depth=3)\n",
    "clf = clf.fit(x_train, y_train)\n",
    "\n",
    "from sklearn.metrics import accuracy_score\n",
    "predicted = clf.predict(x_test)\n",
    "score = accuracy_score(predicted, y_test)\n",
    "\n",
    "score"
   ]
  },
  {
   "cell_type": "code",
   "execution_count": 8,
   "metadata": {},
   "outputs": [
    {
     "name": "stdout",
     "output_type": "stream",
     "text": [
      "Updating Homebrew...\n",
      "\u001b[34m==>\u001b[0m \u001b[1mAuto-updated Homebrew!\u001b[0m\n",
      "Updated 1 tap (homebrew/core).\n",
      "\u001b[34m==>\u001b[0m \u001b[1mNew Formulae\u001b[0m\n",
      "cargo-c                    gimme-aws-creds            postgresql@11\n",
      "devdash                    monolith\n",
      "\u001b[34m==>\u001b[0m \u001b[1mUpdated Formulae\u001b[0m\n",
      "\u001b[1mgit \u001b[32m✔\u001b[0m\u001b[0m                      glooctl                    postgis\n",
      "\u001b[1mglib \u001b[32m✔\u001b[0m\u001b[0m                     goreleaser                 postgresql\n",
      "\u001b[1mlibidn2 \u001b[32m✔\u001b[0m\u001b[0m                  graph-tool                 postgresql@10\n",
      "\u001b[1mpcre2 \u001b[32m✔\u001b[0m\u001b[0m                    groonga                    postgresql@9.4\n",
      "\u001b[1mwget \u001b[32m✔\u001b[0m\u001b[0m                     gwyddion                   postgresql@9.5\n",
      "ace                        hapi-fhir-cli              postgresql@9.6\n",
      "ammonite-repl              haproxy                    procs\n",
      "ansible                    helmfile                   proftpd\n",
      "ansible-lint               infer                      protobuf\n",
      "antlr4-cpp-runtime         ipopt                      pspg\n",
      "auditbeat                  jenkins-lts                pulumi\n",
      "aws-cdk                    jetty                      pushpin\n",
      "aws-sdk-cpp                jhipster                   redis\n",
      "awscli                     jmeter                     reminiscence\n",
      "babel                      juju                       restic\n",
      "bit                        just                       ruby-build\n",
      "bitcoin                    kops                       salt\n",
      "breezy                     kubebuilder                sbcl\n",
      "cabal-install              lazygit                    sbt\n",
      "ccache                     ledger                     scipy\n",
      "cfn-lint                   lerna                      scrcpy\n",
      "cheat                      libftdi                    serverless\n",
      "citus                      libgraphqlparser           simple-scan\n",
      "clamav                     libimobiledevice           skafos\n",
      "cln                        libpq                      sn0int\n",
      "clojure                    libpqxx                    sops\n",
      "cminpack                   librdkafka                 stellar-core\n",
      "cointop                    librealsense               streamlink\n",
      "convox                     libsodium                  stunnel\n",
      "cstore_fdw                 libtasn1                   swagger-codegen\n",
      "darksky-weather            libusbmuxd                 swagger-codegen@2\n",
      "dcos-cli                   libxlsxwriter              swiftformat\n",
      "diamond                    lmod                       synscan\n",
      "dnsviz                     logstash                   tektoncd-cli\n",
      "docker-compose-completion  maxwell                    telegraf\n",
      "dvc                        mesa                       temporal_tables\n",
      "dxpy                       metricbeat                 tepl\n",
      "elasticsearch              mlt                        terrahub\n",
      "erlang                     n                          tig\n",
      "eslint                     navi                       tiger-vnc\n",
      "evince                     now-cli                    tomcat\n",
      "exploitdb                  nsd                        tomcat@8\n",
      "file-roller                nss                        transmission-cli\n",
      "firebase-cli               numpy                      ttyd\n",
      "fluxctl                    osc                        tunnel\n",
      "folly                      paket                      ungit\n",
      "fork-cleaner               pandoc                     uwsgi\n",
      "fwup                       pandoc-citeproc            v8\n",
      "gatsby-cli                 pandoc-crossref            virgil\n",
      "gcc                        passenger                  vte3\n",
      "gcc@6                      pgbouncer                  wal2json\n",
      "gcc@7                      pgloader                   wxmaxima\n",
      "gcc@8                      pgroonga                   wxpython\n",
      "gedit                      pgrouting                  yaml-cpp\n",
      "ghq                        php                        yarn\n",
      "gitlab-runner              php@7.2                    yelp-tools\n",
      "gitleaks                   phpmyadmin                 youtube-dl\n",
      "gjs                        picard-tools               zstd\n",
      "\u001b[34m==>\u001b[0m \u001b[1mRenamed Formulae\u001b[0m\n",
      "bro -> zeek\n",
      "\u001b[34m==>\u001b[0m \u001b[1mDeleted Formulae\u001b[0m\n",
      "\u001b[1mopenssl \u001b[32m✔\u001b[0m\u001b[0m                  ansible@1.9                ansible@2.0\n",
      "\n",
      "\u001b[33mWarning:\u001b[0m graphviz 2.42.2 is already installed and up-to-date\n",
      "To reinstall 2.42.2, run `brew reinstall graphviz`\n"
     ]
    }
   ],
   "source": [
    "!brew install graphviz"
   ]
  },
  {
   "cell_type": "code",
   "execution_count": 10,
   "metadata": {},
   "outputs": [
    {
     "name": "stdout",
     "output_type": "stream",
     "text": [
      "Collecting pydotplus\n",
      "\u001b[?25l  Downloading https://files.pythonhosted.org/packages/60/bf/62567830b700d9f6930e9ab6831d6ba256f7b0b730acb37278b0ccdffacf/pydotplus-2.0.2.tar.gz (278kB)\n",
      "\u001b[K     |████████████████████████████████| 286kB 5.5MB/s eta 0:00:01\n",
      "\u001b[?25hRequirement already satisfied: pyparsing>=2.0.1 in ./py1/lib/python3.7/site-packages (from pydotplus) (2.4.5)\n",
      "Installing collected packages: pydotplus\n",
      "    Running setup.py install for pydotplus ... \u001b[?25ldone\n",
      "\u001b[?25hSuccessfully installed pydotplus-2.0.2\n"
     ]
    }
   ],
   "source": [
    "!pip install pydotplus"
   ]
  },
  {
   "cell_type": "code",
   "execution_count": 11,
   "metadata": {},
   "outputs": [],
   "source": [
    "from sklearn import tree\n",
    "import pydotplus\n",
    "tree.export_graphviz(clf, out_file='tree.dot')"
   ]
  },
  {
   "cell_type": "code",
   "execution_count": 12,
   "metadata": {},
   "outputs": [],
   "source": [
    "!dot -Tpng tree.dot -o tree.png"
   ]
  },
  {
   "cell_type": "code",
   "execution_count": 13,
   "metadata": {},
   "outputs": [
    {
     "data": {
      "text/plain": [
       "'worst concave points'"
      ]
     },
     "execution_count": 13,
     "metadata": {},
     "output_type": "execute_result"
    }
   ],
   "source": [
    "sample.feature_names[27]"
   ]
  },
  {
   "cell_type": "markdown",
   "metadata": {},
   "source": [
    "具体的なデータで考える"
   ]
  },
  {
   "cell_type": "code",
   "execution_count": 14,
   "metadata": {},
   "outputs": [
    {
     "data": {
      "text/plain": [
       "0.9228070175438596"
      ]
     },
     "execution_count": 14,
     "metadata": {},
     "output_type": "execute_result"
    }
   ],
   "source": [
    "import numpy as np\n",
    "\n",
    "# ダミーデータの生成\n",
    "def normalize(x):\n",
    "    min = x.min()\n",
    "    max = x.max()\n",
    "    \n",
    "    result = (10 * (x-min)/(max-min)).astype(np.int64)\n",
    "    return result\n",
    "dummy_x = x[:, [0, 6, 27]]\n",
    "dummy_y = y\n",
    "dummy_x[:, 0] = normalize(dummy_x[:, 0])\n",
    "dummy_x[:, 1] = normalize(dummy_x[:, 1])\n",
    "dummy_x[:, 2] = normalize(dummy_x[:, 2])\n",
    "\n",
    "from sklearn.model_selection import ShuffleSplit\n",
    "from sklearn.tree import DecisionTreeClassifier\n",
    "from sklearn.metrics import accuracy_score\n",
    "\n",
    "ss = ShuffleSplit(n_splits=1, random_state=0, test_size=0.5, train_size=0.5)\n",
    "train_index, test_index = next(ss.split(dummy_x))\n",
    "x_train = dummy_x[train_index] # 学習用データ\n",
    "y_train = dummy_y[train_index] # 学習用回答\n",
    "x_test = dummy_x[test_index]   # テスト用データ\n",
    "y_test = dummy_y[test_index]   # テスト用回答\n",
    "\n",
    "clf = DecisionTreeClassifier(max_depth=3)\n",
    "clf = clf.fit(x_train, y_train)\n",
    "predicted = clf.predict(x_test)\n",
    "score = accuracy_score(predicted, y_test)\n",
    "\n",
    "from sklearn import tree\n",
    "import pydotplus\n",
    "tree.export_graphviz(clf, out_file='dummy_tree.dot')\n",
    "\n",
    "score"
   ]
  },
  {
   "cell_type": "code",
   "execution_count": 15,
   "metadata": {},
   "outputs": [],
   "source": [
    "!dot -Tpng dummy_tree.dot -o dummy_tree.png"
   ]
  },
  {
   "cell_type": "markdown",
   "metadata": {},
   "source": [
    "◯　教師なし学習"
   ]
  },
  {
   "cell_type": "code",
   "execution_count": 18,
   "metadata": {},
   "outputs": [],
   "source": [
    "%matplotlib inline\n",
    "import numpy as np\n",
    "import matplotlib.pyplot as plt\n",
    "\n",
    "from sklearn.datasets import make_blobs\n",
    "# http://scikit-learn.org/stable/modules/generated/sklearn.datasets.make_blobs.htmlを参照\n",
    "X, y = make_blobs(n_samples=1000, centers=5, n_features=2, random_state=0)\n",
    "\n",
    "# 分かりやすさのため、[0, 100]の範囲で正規化する。\n",
    "def normalize(x):\n",
    "    min = x.min()\n",
    "    max = x.max()\n",
    "    result = (100 * (x-min)/(max-min)).astype(np.int64)\n",
    "    return result\n",
    "\n",
    "X = normalize(X[:, ])"
   ]
  },
  {
   "cell_type": "code",
   "execution_count": 19,
   "metadata": {},
   "outputs": [
    {
     "name": "stdout",
     "output_type": "stream",
     "text": [
      "X shape: (1000, 2)\n",
      "X: [[22 79]\n",
      " [21 46]\n",
      " [44 39]\n",
      " ...\n",
      " [21 44]\n",
      " [16 68]\n",
      " [91  4]]\n"
     ]
    }
   ],
   "source": [
    "print('X shape: {}'.format(X.shape))\n",
    "print('X: {}'.format(X))"
   ]
  },
  {
   "cell_type": "markdown",
   "metadata": {},
   "source": [
    "具体的な例をK-平均法を用いて先ほど生成したXをクラスタリングする。"
   ]
  },
  {
   "cell_type": "code",
   "execution_count": 22,
   "metadata": {},
   "outputs": [
    {
     "data": {
      "text/plain": [
       "<matplotlib.collections.PathCollection at 0x1228eb3d0>"
      ]
     },
     "execution_count": 22,
     "metadata": {},
     "output_type": "execute_result"
    },
    {
     "data": {
      "image/png": "[encoded data removed]",
      "text/plain": [
       "<Figure size 432x288 with 1 Axes>"
      ]
     },
     "metadata": {
      "needs_background": "light"
     },
     "output_type": "display_data"
    }
   ],
   "source": [
    "from sklearn.cluster import KMeans\n",
    "\n",
    "y_pred = KMeans(n_clusters=2, random_state=0).fit_predict(X)\n",
    "\n",
    "# 散布図で結果を描画する。\n",
    "plt.scatter(X[:, 0], X[:, 1], c=y_pred)"
   ]
  },
  {
   "cell_type": "code",
   "execution_count": 23,
   "metadata": {},
   "outputs": [
    {
     "name": "stdout",
     "output_type": "stream",
     "text": [
      "[0 0 0]\n",
      "1\n"
     ]
    }
   ],
   "source": [
    "print(y_pred[0:3])\n",
    "print(y_pred[999])"
   ]
  },
  {
   "cell_type": "code",
   "execution_count": 24,
   "metadata": {},
   "outputs": [
    {
     "name": "stdout",
     "output_type": "stream",
     "text": [
      "ラベル０の人数： 206\n",
      "ラベル１の人数： 794\n"
     ]
    }
   ],
   "source": [
    "print('ラベル０の人数： {}'.format(len(np.where(y_pred==1)[0])))\n",
    "print('ラベル１の人数： {}'.format(len(np.where(y_pred==0)[0])))"
   ]
  },
  {
   "cell_type": "code",
   "execution_count": 25,
   "metadata": {},
   "outputs": [
    {
     "data": {
      "text/plain": [
       "<matplotlib.collections.PathCollection at 0x124d59d90>"
      ]
     },
     "execution_count": 25,
     "metadata": {},
     "output_type": "execute_result"
    },
    {
     "data": {
      "image/png": "[encoded data removed]",
      "text/plain": [
       "<Figure size 432x288 with 1 Axes>"
      ]
     },
     "metadata": {
      "needs_background": "light"
     },
     "output_type": "display_data"
    }
   ],
   "source": [
    "y_pred = KMeans(n_clusters=5, random_state=0).fit_predict(X)\n",
    "\n",
    "plt.scatter(X[:, 0], X[:, 1], c=y_pred)"
   ]
  },
  {
   "cell_type": "code",
   "execution_count": null,
   "metadata": {},
   "outputs": [],
   "source": []
  }
 ],
 "metadata": {
  "kernelspec": {
   "display_name": "Python 3",
   "language": "python",
   "name": "python3"
  },
  "language_info": {
   "codemirror_mode": {
    "name": "ipython",
    "version": 3
   },
   "file_extension": ".py",
   "mimetype": "text/x-python",
   "name": "python",
   "nbconvert_exporter": "python",
   "pygments_lexer": "ipython3",
   "version": "3.7.4"
  }
 },
 "nbformat": 4,
 "nbformat_minor": 4
}
