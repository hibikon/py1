{
 "cells": [
  {
   "cell_type": "markdown",
   "metadata": {},
   "source": [
    "◯　集合　基礎"
   ]
  },
  {
   "cell_type": "code",
   "execution_count": 1,
   "metadata": {},
   "outputs": [
    {
     "name": "stdout",
     "output_type": "stream",
     "text": [
      "集合s =  {1, 2, 3}\n",
      "1はsの要素である：　 True\n",
      "3はsの要素である：　 True\n",
      "5はsの要素である：　 False\n"
     ]
    }
   ],
   "source": [
    "# 集合の例\n",
    "s = set()\n",
    "s.add(1) ; s.add(2) ; s.add(3)\n",
    "print(\"集合s = \", s)\n",
    "\n",
    "# 数字が要素として含まれているかを確認する\n",
    "for i in [1, 3, 5]:\n",
    "    print(\"{}はsの要素である：　\".format(i), i in s)"
   ]
  },
  {
   "cell_type": "code",
   "execution_count": 2,
   "metadata": {},
   "outputs": [
    {
     "name": "stdout",
     "output_type": "stream",
     "text": [
      "{2, 4, 6, 8, 10, 12, 14, 16, 18, 20, 22, 24, 26, 28, 30, 32, 34, 36, 38, 40, 42, 44, 46, 48}\n"
     ]
    }
   ],
   "source": [
    "# 集合の定義の方法\n",
    "# S = {x|xに関する条件P(x)を満たす} という記法がある。\n",
    "# 「集合Sは条件P(x)を満たすxからなる」という意味。\n",
    "\n",
    "# 50未満の偶数からなる集合を定義する。\n",
    "s = set([i for i in range(1, 50) if i % 2 == 0])\n",
    "print(s)"
   ]
  },
  {
   "cell_type": "code",
   "execution_count": 3,
   "metadata": {},
   "outputs": [
    {
     "name": "stdout",
     "output_type": "stream",
     "text": [
      "{1} は{1,2,3}の部分集合である：  True\n",
      "{1, 4} は{1,2,3}の部分集合である：  False\n",
      "{1, 4, 5} は{1,2,3}の部分集合である：  False\n"
     ]
    }
   ],
   "source": [
    "# 集合Sに含まれる要素の一部からなる集合S'は、Sの部分集合である。\n",
    "# S’ ⊂ S\n",
    "\n",
    "# 部分集合か否かを判別する。\n",
    "s = set([1, 2, 3])\n",
    "s_prime = set()\n",
    "for i in [1, 4, 5]:\n",
    "    s_prime.add(i)\n",
    "    print(s_prime, \"は{1,2,3}の部分集合である： \", s_prime < s)"
   ]
  },
  {
   "cell_type": "code",
   "execution_count": 7,
   "metadata": {},
   "outputs": [
    {
     "name": "stdout",
     "output_type": "stream",
     "text": [
      "S1 ∪　S2 = {3, 4, 5, 6, 10}\n"
     ]
    }
   ],
   "source": [
    "# 和集合\n",
    "# S1 ∪　S2 :=　{s|s ∈ S1 or s ∈ S2}\n",
    "# unionメソッドを用いる。\n",
    "\n",
    "S1 = set([3, 5, 10])\n",
    "S2 = set([4, 5, 6])\n",
    "print(\"S1 ∪　S2 =\", S1.union(S2))"
   ]
  },
  {
   "cell_type": "code",
   "execution_count": 8,
   "metadata": {},
   "outputs": [
    {
     "name": "stdout",
     "output_type": "stream",
     "text": [
      "S1 ∩　S2 = {5}\n"
     ]
    }
   ],
   "source": [
    "# 2つの集合に共通して所属している元からなる集合を共通集合と呼ぶ。\n",
    "# S1 ∩ S2 := {s|s ∈ S1 and s ∈ S2}\n",
    "# intersectionメソッドを用いる。\n",
    "\n",
    "S1 = set([3, 5, 10])\n",
    "S2 = set([4, 5, 6])\n",
    "print(\"S1 ∩　S2 =\", S1.intersection(S2))"
   ]
  },
  {
   "cell_type": "code",
   "execution_count": 9,
   "metadata": {},
   "outputs": [
    {
     "name": "stdout",
     "output_type": "stream",
     "text": [
      "#S = 1000\n"
     ]
    }
   ],
   "source": [
    "# 集合の大きさ\n",
    "# 有限個の元からなる集合Sの元の数を#Sで表し、集合の大きさや濃度と呼ぶ。\n",
    "# len関数にset型を渡すことで大きさを取得できる。\n",
    "\n",
    "S = set([i for i in range(1000)])\n",
    "print(\"#S =\", len(S))"
   ]
  },
  {
   "cell_type": "raw",
   "metadata": {},
   "source": [
    "代表的な集合\n",
    " R　= すべての実数からなる集合\n",
    " R := {x|xは実数}\n",
    " n個の実数のすべての組み合わせからなる集合をRnと表記する。\n",
    " Rn := {(x1, ．．．,xn)|xi ∈ R(i=1, ．．．,n)}\n",
    "\n",
    " →　n次元のユークリッド空間、n次元空間\n"
   ]
  },
  {
   "cell_type": "markdown",
   "metadata": {},
   "source": [
    "◯　関数　基礎"
   ]
  },
  {
   "cell_type": "code",
   "execution_count": 13,
   "metadata": {},
   "outputs": [],
   "source": [
    "from datetime import datetime\n",
    "\n",
    "def f_1():\n",
    "    # 何も受け取らず現在時刻をprintする関数\n",
    "    print(datetime.now())\n",
    "    # 関数：　入力も出力もない\n",
    "    # 集合：　入力にも出力にも対応する集合が存在しない\n",
    "def f_2(x : str):\n",
    "    # 文字列を受け取りprintする関数\n",
    "    print(x)\n",
    "    # 関数：　入力は存在するが、出力は存在しない\n",
    "    # 集合：　すべての文字列からなる集合が入力に対応するが、出力が存在しない\n",
    "    \n",
    "def f_3(x : int, y : int) -> int:\n",
    "    # ２つの整数を足し算した結果を返す関数\n",
    "    return x + y\n",
    "    # 関数：　入力も出力も存在する\n",
    "    # 集合：　すべての２つの整数の組み合わせからなる集合が入力に対応し、整数全体が出力に対応する"
   ]
  },
  {
   "cell_type": "code",
   "execution_count": null,
   "metadata": {},
   "outputs": [],
   "source": []
  }
 ],
 "metadata": {
  "kernelspec": {
   "display_name": "Python 3",
   "language": "python",
   "name": "python3"
  },
  "language_info": {
   "codemirror_mode": {
    "name": "ipython",
    "version": 3
   },
   "file_extension": ".py",
   "mimetype": "text/x-python",
   "name": "python",
   "nbconvert_exporter": "python",
   "pygments_lexer": "ipython3",
   "version": "3.7.4"
  }
 },
 "nbformat": 4,
 "nbformat_minor": 4
}
